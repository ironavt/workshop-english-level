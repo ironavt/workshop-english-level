{
 "cells": [
  {
   "cell_type": "markdown",
   "id": "ddf9a81b-fad4-4d40-b25c-c9a83ea8584e",
   "metadata": {},
   "source": [
    "# English level (model training)"
   ]
  },
  {
   "cell_type": "markdown",
   "id": "b6168079-d944-42de-b6e1-8b336368bdd4",
   "metadata": {
    "tags": []
   },
   "source": [
    "## Intro"
   ]
  },
  {
   "cell_type": "markdown",
   "id": "4024f768-f694-4d3a-9da7-2f648d2a80f1",
   "metadata": {},
   "source": [
    "**Yandex.Practicum's English department** is a customer for this project https://practicum.yandex.ru/english/\n",
    "\n",
    "One of the most effective ways to study foreighn languages (including English) is to watch movies. It's considered it's best for the student to watch videos in which they can understand from 50% to 70% of all dialogs in order to maximise their learning rate. Thus it's vital how movie contents matches an English level. We will use **CEFR** to define English level.\n",
    "\n",
    "A dataset containig information on some movies' English level is provided by Yandex.Prackticum experts.\n",
    "\n",
    "**Objective** is to build a model that can evaluate English level of movies based on their subtitles content."
   ]
  },
  {
   "cell_type": "markdown",
   "id": "c78d28b1-f42b-4499-9dcb-1caf76b60bdc",
   "metadata": {},
   "source": [
    "This project is devided on three notebooks:\n",
    "* `english_level_dataset.ipynb`: forms a dataset from all the data and saves it into `text_labels.csv` file\n",
    "* `english_level_modeling.ipynb`: takes `text_labels.csv` file, does text processing, modeling and saves model `english_labels_model.pkl` file\n",
    "* `english_level_servise.ipynb`: allows to label provided `.srt` file using the saved model"
   ]
  },
  {
   "cell_type": "markdown",
   "id": "18740bda-ff91-4d5f-8776-517c33df8179",
   "metadata": {},
   "source": [
    "We will use `.csv` file that contains:\n",
    "* labels\n",
    "* raw text data without timestamos\n",
    "* full text data with timestamps"
   ]
  },
  {
   "cell_type": "markdown",
   "id": "6b51a442-35c9-4ede-b80a-29e0a36ded9e",
   "metadata": {},
   "source": [
    "In this notebook we will use several approaches to preprocess data, train model and compare them"
   ]
  },
  {
   "cell_type": "code",
   "execution_count": 1,
   "id": "d596461b-410b-4e82-a61d-85c674e80761",
   "metadata": {},
   "outputs": [],
   "source": [
    "# libraries to work with data\n",
    "import pandas as pd\n",
    "import numpy as np\n",
    "import re\n",
    "import difflib\n",
    "\n",
    "import matplotlib.pyplot as plt\n",
    "import seaborn as sns"
   ]
  },
  {
   "cell_type": "code",
   "execution_count": 2,
   "id": "a10c684f-a883-403c-b297-9c7c4ffc4708",
   "metadata": {},
   "outputs": [],
   "source": [
    "# libraries to work with files\n",
    "import os\n",
    "import pysrt # https://github.com/byroot/pysrt\n",
    "import chardet # detect encoding\n",
    "import codecs # decode files\n",
    "import pickle\n",
    "\n",
    "from pathlib import Path"
   ]
  },
  {
   "cell_type": "code",
   "execution_count": 3,
   "id": "567db3d7-a3af-4ca8-9688-c3860b0e7f94",
   "metadata": {},
   "outputs": [],
   "source": [
    "# natural language toolkit\n",
    "import nltk\n",
    "\n",
    "from nltk.tokenize import word_tokenize\n",
    "from nltk.corpus import stopwords\n",
    "from nltk.stem import WordNetLemmatizer"
   ]
  },
  {
   "cell_type": "code",
   "execution_count": 4,
   "id": "eafba6b8-918b-46f3-855e-2d9a66a04098",
   "metadata": {},
   "outputs": [],
   "source": [
    "# sklearn\n",
    "from sklearn.model_selection import train_test_split\n",
    "from sklearn.model_selection import GridSearchCV\n",
    "from sklearn.model_selection import KFold\n",
    "\n",
    "from sklearn.feature_extraction.text import CountVectorizer\n",
    "\n",
    "from sklearn.naive_bayes import MultinomialNB\n",
    "from sklearn.ensemble import RandomForestClassifier\n",
    "from sklearn.linear_model import LogisticRegression\n",
    "\n",
    "from sklearn.metrics import accuracy_score, f1_score, confusion_matrix, classification_report"
   ]
  },
  {
   "cell_type": "code",
   "execution_count": 5,
   "id": "54e84ba3-f7ae-4e98-9190-57d2b9b70fef",
   "metadata": {},
   "outputs": [],
   "source": [
    "# catboost\n",
    "from catboost import CatBoostClassifier"
   ]
  },
  {
   "cell_type": "code",
   "execution_count": 6,
   "id": "58c75e63-ab97-492c-a2cb-b02d55d7cec0",
   "metadata": {},
   "outputs": [],
   "source": [
    "# optuna\n",
    "import optuna\n",
    "\n",
    "from optuna.samplers import TPESampler\n",
    "from optuna.integration import OptunaSearchCV\n",
    "from optuna.distributions import FloatDistribution, IntDistribution, CategoricalDistribution"
   ]
  },
  {
   "cell_type": "raw",
   "id": "2de43133-b89a-4d6d-ba68-0ad3bf204083",
   "metadata": {},
   "source": [
    "pip install catboost"
   ]
  },
  {
   "cell_type": "raw",
   "id": "210ba467-f80d-4fad-8109-eb04bb0c9435",
   "metadata": {},
   "source": [
    "pip install optuna"
   ]
  },
  {
   "cell_type": "raw",
   "id": "f63fcacc-9ba8-454d-9645-1da3a854f6de",
   "metadata": {},
   "source": [
    "# downloading wordnet\n",
    "nltk.download('wordnet')"
   ]
  },
  {
   "cell_type": "raw",
   "id": "3a0f46eb-f544-4edf-bee4-c3f48bfd5a5d",
   "metadata": {},
   "source": [
    "# downloading stopwords\n",
    "nltk.download('stopwords')"
   ]
  },
  {
   "cell_type": "raw",
   "id": "f9beeee6-7778-4568-94d8-2e46b983e84a",
   "metadata": {},
   "source": [
    "# downloading tokenizer model\n",
    "nltk.download('punkt')"
   ]
  },
  {
   "cell_type": "code",
   "execution_count": 7,
   "id": "557d88c5-62e7-4ce3-b9f2-95d67a21b7d9",
   "metadata": {},
   "outputs": [],
   "source": [
    "# global variables\n",
    "PATH_MOVIE_LABELS = r'./English_scores/movies_labels.xlsx'\n",
    "PATH_ALL_SUBS_FOLDER = r'./English_scores/Subtitles_all/Subtitles'\n",
    "PATH_SUBS_A2 = r'./English_scores/Subtitles_all/A2'\n",
    "PATH_SUBS_B1 = r'./English_scores/Subtitles_all/B1'\n",
    "PATH_SUBS_B2 = r'./English_scores/Subtitles_all/B2'\n",
    "PATH_SUBS_C1 = r'./English_scores/Subtitles_all/C1'\n",
    "UTF8_SUBFOLDER = r'/utf-8'\n",
    "PATH_TRAIN_DATA = r'./text_labels.csv'\n",
    "RND_STATE = 1337"
   ]
  },
  {
   "cell_type": "code",
   "execution_count": 8,
   "id": "dfdb8feb-caf7-440c-895a-836ca38745c5",
   "metadata": {},
   "outputs": [],
   "source": [
    "# regex for text processing\n",
    "HTML = re.compile(r'<.*?>')\n",
    "TAG = re.compile(r'{.*?}')\n",
    "COMMENTS = re.compile(r'[\\(\\[][A-Z ]+[\\)\\]]')\n",
    "LETTERS = re.compile(r'[^a-zA-Z\\'.,!? ]')\n",
    "SPACES = re.compile(r'([ ])\\1+')\n",
    "DOTS = re.compile(r'[\\.]+')\n",
    "\n",
    "ONLY_WORDS = re.compile(r'[.,!?]|(?:\\'[a-z]*)') # for BOW"
   ]
  },
  {
   "cell_type": "markdown",
   "id": "a37f22d2-c499-48e3-8aab-ab913b08bdf2",
   "metadata": {},
   "source": [
    "## Bag of words approach"
   ]
  },
  {
   "cell_type": "markdown",
   "id": "b8eaba93-bf28-4dcc-a557-59822001b7e4",
   "metadata": {},
   "source": [
    "We will use **Bag of words** approach and **NLTK** library to process text. We won't need timestamps for this"
   ]
  },
  {
   "cell_type": "markdown",
   "id": "35cd9a3b-6204-4b8e-886c-380c85347142",
   "metadata": {},
   "source": [
    "### Text preprocessing"
   ]
  },
  {
   "cell_type": "markdown",
   "id": "5fac1a87-c8ba-4a4a-a40a-fd5e30c18fe5",
   "metadata": {},
   "source": [
    "Let's open our train dataset and preprocess data:\n",
    "* clean text using RE\n",
    "* tokenize text\n",
    "* remove stopwords\n",
    "* lemmatise"
   ]
  },
  {
   "cell_type": "code",
   "execution_count": 9,
   "id": "ed207513-b00d-4073-be18-5eafff3f1a7f",
   "metadata": {},
   "outputs": [
    {
     "data": {
      "text/html": [
       "<div>\n",
       "<style scoped>\n",
       "    .dataframe tbody tr th:only-of-type {\n",
       "        vertical-align: middle;\n",
       "    }\n",
       "\n",
       "    .dataframe tbody tr th {\n",
       "        vertical-align: top;\n",
       "    }\n",
       "\n",
       "    .dataframe thead th {\n",
       "        text-align: right;\n",
       "    }\n",
       "</style>\n",
       "<table border=\"1\" class=\"dataframe\">\n",
       "  <thead>\n",
       "    <tr style=\"text-align: right;\">\n",
       "      <th></th>\n",
       "      <th>label</th>\n",
       "      <th>raw_text</th>\n",
       "    </tr>\n",
       "  </thead>\n",
       "  <tbody>\n",
       "    <tr>\n",
       "      <th>0</th>\n",
       "      <td>B1</td>\n",
       "      <td>&lt;font color=\"#ffff80\"&gt;&lt;b&gt;Fixed &amp; Synced by boz...</td>\n",
       "    </tr>\n",
       "    <tr>\n",
       "      <th>1</th>\n",
       "      <td>B1</td>\n",
       "      <td>Hey!\\nI'll be right with you.\\nSo, Cameron. He...</td>\n",
       "    </tr>\n",
       "    <tr>\n",
       "      <th>2</th>\n",
       "      <td>B2</td>\n",
       "      <td>Resync: Xenzai[NEF]\\nRETAIL\\nShould we help hi...</td>\n",
       "    </tr>\n",
       "    <tr>\n",
       "      <th>3</th>\n",
       "      <td>B2</td>\n",
       "      <td>- &lt;i&gt;&lt;font color=\"#ffffff\"&gt; Synced and correct...</td>\n",
       "    </tr>\n",
       "    <tr>\n",
       "      <th>4</th>\n",
       "      <td>A2</td>\n",
       "      <td>&lt;i&gt;Oh, I come from a land\\nFrom a faraway plac...</td>\n",
       "    </tr>\n",
       "  </tbody>\n",
       "</table>\n",
       "</div>"
      ],
      "text/plain": [
       "  label                                           raw_text\n",
       "0    B1  <font color=\"#ffff80\"><b>Fixed & Synced by boz...\n",
       "1    B1  Hey!\\nI'll be right with you.\\nSo, Cameron. He...\n",
       "2    B2  Resync: Xenzai[NEF]\\nRETAIL\\nShould we help hi...\n",
       "3    B2  - <i><font color=\"#ffffff\"> Synced and correct...\n",
       "4    A2  <i>Oh, I come from a land\\nFrom a faraway plac..."
      ]
     },
     "execution_count": 9,
     "metadata": {},
     "output_type": "execute_result"
    }
   ],
   "source": [
    "# open dataframe\n",
    "df1 = pd.read_csv(PATH_TRAIN_DATA)\n",
    "df1 = df1.drop(columns=['full_subs'])\n",
    "df1.head()"
   ]
  },
  {
   "cell_type": "code",
   "execution_count": 10,
   "id": "a9ede8e1-2364-4b3f-9ca6-f809a2633286",
   "metadata": {},
   "outputs": [],
   "source": [
    "# defining stop words list and creating a lemmatiser object\n",
    "stop_words = stopwords.words('english')\n",
    "lemmatizer = WordNetLemmatizer()"
   ]
  },
  {
   "cell_type": "code",
   "execution_count": 11,
   "id": "3dfb7742-6622-4048-8077-f1e69e0c3eda",
   "metadata": {},
   "outputs": [],
   "source": [
    "# re text cleaner\n",
    "def re_clean_subs(subs):\n",
    "    txt = re.sub(HTML, ' ', subs) # html to space\n",
    "    txt = re.sub(TAG, ' ', txt) # tags to space\n",
    "    txt = re.sub(COMMENTS, ' ', txt) # commentaries to space\n",
    "    txt = re.sub(LETTERS, ' ', txt) # non-char to space\n",
    "    txt = re.sub(SPACES, r'\\1', txt) # leading spaces to one space\n",
    "    txt = re.sub(DOTS, r'.', txt)  # ellipsis to dot\n",
    "    txt = txt.encode('ascii', 'ignore').decode() # clear non-ascii symbols   \n",
    "    txt = \".\".join(txt.lower().split('.')[1:-1]) # delete the first and the last subtitle (ads)\n",
    "    return txt"
   ]
  },
  {
   "cell_type": "code",
   "execution_count": 12,
   "id": "7a7fd2e1-a2bc-4f43-be8a-f6eefc019e0e",
   "metadata": {},
   "outputs": [],
   "source": [
    "# this function executes text preprocessing\n",
    "def text_preprocess_lem(text):\n",
    "    text = re_clean_subs(text) # clean text using RE\n",
    "    tokens = nltk.word_tokenize(text) # tokenisation\n",
    "    text = [word for word in tokens if word not in stop_words] # stop words removal\n",
    "    text = [lemmatizer.lemmatize(word) for word in text] # lemmatising tokens\n",
    "    text = \" \".join(text) # making text from the list\n",
    "    return text"
   ]
  },
  {
   "cell_type": "code",
   "execution_count": 13,
   "id": "a8665192-6786-436d-b0dd-e14a2123a6dd",
   "metadata": {},
   "outputs": [
    {
     "data": {
      "text/html": [
       "<div>\n",
       "<style scoped>\n",
       "    .dataframe tbody tr th:only-of-type {\n",
       "        vertical-align: middle;\n",
       "    }\n",
       "\n",
       "    .dataframe tbody tr th {\n",
       "        vertical-align: top;\n",
       "    }\n",
       "\n",
       "    .dataframe thead th {\n",
       "        text-align: right;\n",
       "    }\n",
       "</style>\n",
       "<table border=\"1\" class=\"dataframe\">\n",
       "  <thead>\n",
       "    <tr style=\"text-align: right;\">\n",
       "      <th></th>\n",
       "      <th>label</th>\n",
       "      <th>raw_text</th>\n",
       "      <th>preprocessed_text</th>\n",
       "    </tr>\n",
       "  </thead>\n",
       "  <tbody>\n",
       "    <tr>\n",
       "      <th>0</th>\n",
       "      <td>B1</td>\n",
       "      <td>&lt;font color=\"#ffff80\"&gt;&lt;b&gt;Fixed &amp; Synced by boz...</td>\n",
       "      <td>enjoy flick ben phone michelle , please n't ha...</td>\n",
       "    </tr>\n",
       "    <tr>\n",
       "      <th>1</th>\n",
       "      <td>B1</td>\n",
       "      <td>Hey!\\nI'll be right with you.\\nSo, Cameron. He...</td>\n",
       "      <td>, cameron . go . nine school year . , . army b...</td>\n",
       "    </tr>\n",
       "    <tr>\n",
       "      <th>2</th>\n",
       "      <td>B2</td>\n",
       "      <td>Resync: Xenzai[NEF]\\nRETAIL\\nShould we help hi...</td>\n",
       "      <td>two minute forfeit . lend u . right . left . d...</td>\n",
       "    </tr>\n",
       "    <tr>\n",
       "      <th>3</th>\n",
       "      <td>B2</td>\n",
       "      <td>- &lt;i&gt;&lt;font color=\"#ffffff\"&gt; Synced and correct...</td>\n",
       "      <td>black eye open wide 's time testify room lie e...</td>\n",
       "    </tr>\n",
       "    <tr>\n",
       "      <th>4</th>\n",
       "      <td>A2</td>\n",
       "      <td>&lt;i&gt;Oh, I come from a land\\nFrom a faraway plac...</td>\n",
       "      <td>please , please , come closer . close . little...</td>\n",
       "    </tr>\n",
       "    <tr>\n",
       "      <th>...</th>\n",
       "      <td>...</td>\n",
       "      <td>...</td>\n",
       "      <td>...</td>\n",
       "    </tr>\n",
       "    <tr>\n",
       "      <th>268</th>\n",
       "      <td>C1</td>\n",
       "      <td>I lost Ava her company.\\nI assume my deal\\nwit...</td>\n",
       "      <td>assume deal edward dead . long win murder tria...</td>\n",
       "    </tr>\n",
       "    <tr>\n",
       "      <th>269</th>\n",
       "      <td>C1</td>\n",
       "      <td>Previously on\\n&lt;i&gt;Suits...&lt;/i&gt;\\nIt's going up\\...</td>\n",
       "      <td>'s going wall tomorrow . way getting side . n'...</td>\n",
       "    </tr>\n",
       "    <tr>\n",
       "      <th>270</th>\n",
       "      <td>C1</td>\n",
       "      <td>I get Ava Hessington acquitted,\\nDarby backs m...</td>\n",
       "      <td>n't want anymore . get sight . called mariga o...</td>\n",
       "    </tr>\n",
       "    <tr>\n",
       "      <th>271</th>\n",
       "      <td>C1</td>\n",
       "      <td>Previously on\\n&lt;i&gt;Suits...&lt;/i&gt;\\nI'm bonding\\nw...</td>\n",
       "      <td>'m bonding father . speaking 're taking easy ,...</td>\n",
       "    </tr>\n",
       "    <tr>\n",
       "      <th>272</th>\n",
       "      <td>C1</td>\n",
       "      <td>Previously on\\n&lt;i&gt;Suits...&lt;/i&gt;\\nThis is a copy...</td>\n",
       "      <td>copy letter wrote copy district attorney threa...</td>\n",
       "    </tr>\n",
       "  </tbody>\n",
       "</table>\n",
       "<p>273 rows × 3 columns</p>\n",
       "</div>"
      ],
      "text/plain": [
       "    label                                           raw_text  \\\n",
       "0      B1  <font color=\"#ffff80\"><b>Fixed & Synced by boz...   \n",
       "1      B1  Hey!\\nI'll be right with you.\\nSo, Cameron. He...   \n",
       "2      B2  Resync: Xenzai[NEF]\\nRETAIL\\nShould we help hi...   \n",
       "3      B2  - <i><font color=\"#ffffff\"> Synced and correct...   \n",
       "4      A2  <i>Oh, I come from a land\\nFrom a faraway plac...   \n",
       "..    ...                                                ...   \n",
       "268    C1  I lost Ava her company.\\nI assume my deal\\nwit...   \n",
       "269    C1  Previously on\\n<i>Suits...</i>\\nIt's going up\\...   \n",
       "270    C1  I get Ava Hessington acquitted,\\nDarby backs m...   \n",
       "271    C1  Previously on\\n<i>Suits...</i>\\nI'm bonding\\nw...   \n",
       "272    C1  Previously on\\n<i>Suits...</i>\\nThis is a copy...   \n",
       "\n",
       "                                     preprocessed_text  \n",
       "0    enjoy flick ben phone michelle , please n't ha...  \n",
       "1    , cameron . go . nine school year . , . army b...  \n",
       "2    two minute forfeit . lend u . right . left . d...  \n",
       "3    black eye open wide 's time testify room lie e...  \n",
       "4    please , please , come closer . close . little...  \n",
       "..                                                 ...  \n",
       "268  assume deal edward dead . long win murder tria...  \n",
       "269  's going wall tomorrow . way getting side . n'...  \n",
       "270  n't want anymore . get sight . called mariga o...  \n",
       "271  'm bonding father . speaking 're taking easy ,...  \n",
       "272  copy letter wrote copy district attorney threa...  \n",
       "\n",
       "[273 rows x 3 columns]"
      ]
     },
     "execution_count": 13,
     "metadata": {},
     "output_type": "execute_result"
    }
   ],
   "source": [
    "# apply text preprocessing\n",
    "df1['preprocessed_text'] = df1['raw_text'].apply(text_preprocess_lem)\n",
    "df1"
   ]
  },
  {
   "cell_type": "markdown",
   "id": "17ddb493-61cd-40ad-a3a5-a80adf696e56",
   "metadata": {},
   "source": [
    "### Vectorising text"
   ]
  },
  {
   "cell_type": "markdown",
   "id": "03284915-7473-4b6c-8a50-0eeb5a9e9ac5",
   "metadata": {},
   "source": [
    "In order for ML model to work with text we need to vectorise it first. Let's start with simple **bag of words** method. Since this method is sensitive only to words we will get rid of symbols"
   ]
  },
  {
   "cell_type": "code",
   "execution_count": 14,
   "id": "c85dc545-fa4d-44c9-b56c-75e6da91068c",
   "metadata": {},
   "outputs": [
    {
     "data": {
      "text/html": [
       "<div>\n",
       "<style scoped>\n",
       "    .dataframe tbody tr th:only-of-type {\n",
       "        vertical-align: middle;\n",
       "    }\n",
       "\n",
       "    .dataframe tbody tr th {\n",
       "        vertical-align: top;\n",
       "    }\n",
       "\n",
       "    .dataframe thead th {\n",
       "        text-align: right;\n",
       "    }\n",
       "</style>\n",
       "<table border=\"1\" class=\"dataframe\">\n",
       "  <thead>\n",
       "    <tr style=\"text-align: right;\">\n",
       "      <th></th>\n",
       "      <th>label</th>\n",
       "      <th>raw_text</th>\n",
       "      <th>preprocessed_text</th>\n",
       "      <th>bow_text</th>\n",
       "    </tr>\n",
       "  </thead>\n",
       "  <tbody>\n",
       "    <tr>\n",
       "      <th>0</th>\n",
       "      <td>B1</td>\n",
       "      <td>&lt;font color=\"#ffff80\"&gt;&lt;b&gt;Fixed &amp; Synced by boz...</td>\n",
       "      <td>enjoy flick ben phone michelle , please n't ha...</td>\n",
       "      <td>enjoy flick ben phone michelle please n hang t...</td>\n",
       "    </tr>\n",
       "    <tr>\n",
       "      <th>1</th>\n",
       "      <td>B1</td>\n",
       "      <td>Hey!\\nI'll be right with you.\\nSo, Cameron. He...</td>\n",
       "      <td>, cameron . go . nine school year . , . army b...</td>\n",
       "      <td>cameron go nine school year army brat yeah da...</td>\n",
       "    </tr>\n",
       "    <tr>\n",
       "      <th>2</th>\n",
       "      <td>B2</td>\n",
       "      <td>Resync: Xenzai[NEF]\\nRETAIL\\nShould we help hi...</td>\n",
       "      <td>two minute forfeit . lend u . right . left . d...</td>\n",
       "      <td>two minute forfeit lend u right left dead eh t...</td>\n",
       "    </tr>\n",
       "    <tr>\n",
       "      <th>3</th>\n",
       "      <td>B2</td>\n",
       "      <td>- &lt;i&gt;&lt;font color=\"#ffffff\"&gt; Synced and correct...</td>\n",
       "      <td>black eye open wide 's time testify room lie e...</td>\n",
       "      <td>black eye open wide time testify room lie ever...</td>\n",
       "    </tr>\n",
       "    <tr>\n",
       "      <th>4</th>\n",
       "      <td>A2</td>\n",
       "      <td>&lt;i&gt;Oh, I come from a land\\nFrom a faraway plac...</td>\n",
       "      <td>please , please , come closer . close . little...</td>\n",
       "      <td>please please come closer close little close w...</td>\n",
       "    </tr>\n",
       "  </tbody>\n",
       "</table>\n",
       "</div>"
      ],
      "text/plain": [
       "  label                                           raw_text  \\\n",
       "0    B1  <font color=\"#ffff80\"><b>Fixed & Synced by boz...   \n",
       "1    B1  Hey!\\nI'll be right with you.\\nSo, Cameron. He...   \n",
       "2    B2  Resync: Xenzai[NEF]\\nRETAIL\\nShould we help hi...   \n",
       "3    B2  - <i><font color=\"#ffffff\"> Synced and correct...   \n",
       "4    A2  <i>Oh, I come from a land\\nFrom a faraway plac...   \n",
       "\n",
       "                                   preprocessed_text  \\\n",
       "0  enjoy flick ben phone michelle , please n't ha...   \n",
       "1  , cameron . go . nine school year . , . army b...   \n",
       "2  two minute forfeit . lend u . right . left . d...   \n",
       "3  black eye open wide 's time testify room lie e...   \n",
       "4  please , please , come closer . close . little...   \n",
       "\n",
       "                                            bow_text  \n",
       "0  enjoy flick ben phone michelle please n hang t...  \n",
       "1   cameron go nine school year army brat yeah da...  \n",
       "2  two minute forfeit lend u right left dead eh t...  \n",
       "3  black eye open wide time testify room lie ever...  \n",
       "4  please please come closer close little close w...  "
      ]
     },
     "metadata": {},
     "output_type": "display_data"
    }
   ],
   "source": [
    "# leaving only words\n",
    "df1['bow_text'] = df1['preprocessed_text'].apply(lambda x: re.sub(ONLY_WORDS, '', x))\n",
    "df1['bow_text'] = df1['bow_text'].apply(lambda x: re.sub(r'\\s+', ' ', x)) # removing multiple spaces\n",
    "display(df1.head())"
   ]
  },
  {
   "cell_type": "raw",
   "id": "c3386c33-a993-4f6f-a8d3-63c9dc84f89a",
   "metadata": {},
   "source": [
    "display(df1.loc[1, 'bow_text'])"
   ]
  },
  {
   "cell_type": "markdown",
   "id": "c158bc4f-c412-4330-858b-c9c5755039e4",
   "metadata": {},
   "source": [
    "Now we split our data to train and test samples"
   ]
  },
  {
   "cell_type": "code",
   "execution_count": 15,
   "id": "bc9f5cc0-0a45-49ca-a59c-177e4ce7d879",
   "metadata": {},
   "outputs": [
    {
     "name": "stdout",
     "output_type": "stream",
     "text": [
      "(204,)\n",
      "(69,)\n",
      "(204,)\n",
      "(69,)\n"
     ]
    }
   ],
   "source": [
    "# features and targets\n",
    "X1 = df1['bow_text'].copy()\n",
    "y1 = df1['label'].copy()\n",
    "\n",
    "# splitting\n",
    "X1_train, X1_test, y1_train, y1_test = train_test_split(X1, y1, test_size=0.25, stratify=y1, random_state=RND_STATE)\n",
    "\n",
    "for data in (X1_train, X1_test, y1_train, y1_test):\n",
    "    print(data.shape)"
   ]
  },
  {
   "cell_type": "code",
   "execution_count": 16,
   "id": "ed8df1b2-0e3d-44ef-9d70-fa0009a1daa9",
   "metadata": {},
   "outputs": [
    {
     "data": {
      "text/plain": [
       "<204x25650 sparse matrix of type '<class 'numpy.int64'>'\n",
       "\twith 224760 stored elements in Compressed Sparse Row format>"
      ]
     },
     "metadata": {},
     "output_type": "display_data"
    },
    {
     "data": {
      "text/plain": [
       "<69x25650 sparse matrix of type '<class 'numpy.int64'>'\n",
       "\twith 70672 stored elements in Compressed Sparse Row format>"
      ]
     },
     "metadata": {},
     "output_type": "display_data"
    }
   ],
   "source": [
    "# creating a vectoriser object and vectorising texts in samples\n",
    "vectorizer = CountVectorizer()\n",
    "vectorizer.fit(X1_train)\n",
    "\n",
    "X1_train = vectorizer.transform(X1_train)\n",
    "X1_test = vectorizer.transform(X1_test)\n",
    "\n",
    "display(X1_train, X1_test)"
   ]
  },
  {
   "cell_type": "code",
   "execution_count": 17,
   "id": "b07b6ed0-9604-4402-a9f8-a6d6f0df9968",
   "metadata": {},
   "outputs": [],
   "source": [
    "# this function forms a small report\n",
    "def report(y_test, y_pred):\n",
    "    print('Subset accuracy is:', accuracy_score(y_test, y_pred))\n",
    "    print('Confusion matrix:')\n",
    "    sns.heatmap(pd.DataFrame(confusion_matrix(y_test, y_pred, labels=['A2', 'B1', 'B2', 'C1']),\n",
    "                             index=['true A2', 'true B1', 'true B2', 'true C1'],\n",
    "                             columns=['false A2', 'false B1', 'false B2', 'false C1']),\n",
    "                annot=True)\n",
    "    plt.show()\n",
    "    print(classification_report(y_test, y_pred))"
   ]
  },
  {
   "cell_type": "markdown",
   "id": "0fcb0c97-0957-427f-8ee9-0c4cfc8d1621",
   "metadata": {},
   "source": [
    "## Model trainig"
   ]
  },
  {
   "cell_type": "markdown",
   "id": "e93bfba3-36b8-4046-852c-aa0d4c49bd6c",
   "metadata": {},
   "source": [
    "### Naive Bayes classifier"
   ]
  },
  {
   "cell_type": "code",
   "execution_count": 18,
   "id": "508786df-db4c-4cde-99fd-2772c6a237c4",
   "metadata": {},
   "outputs": [
    {
     "data": {
      "text/plain": [
       "MultinomialNB()"
      ]
     },
     "execution_count": 18,
     "metadata": {},
     "output_type": "execute_result"
    }
   ],
   "source": [
    "# trainig naive bayes classifier\n",
    "model_nb = MultinomialNB()\n",
    "model_nb.fit(X1_train, y1_train)"
   ]
  },
  {
   "cell_type": "code",
   "execution_count": 19,
   "id": "73313910-66b8-46f4-8859-699037cd5677",
   "metadata": {},
   "outputs": [
    {
     "name": "stdout",
     "output_type": "stream",
     "text": [
      "Subset accuracy is: 0.6811594202898551\n",
      "Confusion matrix:\n"
     ]
    },
    {
     "data": {
      "image/png": "[encoded data removed]",
      "text/plain": [
       "<Figure size 432x288 with 2 Axes>"
      ]
     },
     "metadata": {
      "needs_background": "light"
     },
     "output_type": "display_data"
    },
    {
     "name": "stdout",
     "output_type": "stream",
     "text": [
      "              precision    recall  f1-score   support\n",
      "\n",
      "          A2       1.00      0.11      0.20         9\n",
      "          B1       0.42      0.62      0.50        16\n",
      "          B2       0.79      0.91      0.85        34\n",
      "          C1       1.00      0.50      0.67        10\n",
      "\n",
      "    accuracy                           0.68        69\n",
      "   macro avg       0.80      0.54      0.55        69\n",
      "weighted avg       0.76      0.68      0.66        69\n",
      "\n"
     ]
    }
   ],
   "source": [
    "# prediction and scoring\n",
    "y1_pred_nb = model_nb.predict(X1_test)\n",
    "report(y1_test, y1_pred_nb)"
   ]
  },
  {
   "cell_type": "markdown",
   "id": "ceff847a-9b67-4550-947b-b9c9051eb574",
   "metadata": {},
   "source": [
    "### Random Forest classifier"
   ]
  },
  {
   "cell_type": "code",
   "execution_count": 20,
   "id": "a569d768-b6c4-4aa7-a8b5-a5113f734844",
   "metadata": {},
   "outputs": [
    {
     "name": "stderr",
     "output_type": "stream",
     "text": [
      "C:\\Users\\irona\\AppData\\Local\\Temp/ipykernel_17900/2052669020.py:11: ExperimentalWarning: OptunaSearchCV is experimental (supported from v0.17.0). The interface can change in the future.\n",
      "  optuna_rf = OptunaSearchCV(\n",
      "\u001b[32m[I 2023-04-14 21:08:09,752]\u001b[0m A new study created in memory with name: no-name-80653e0a-d902-4f59-8693-3018faafcef4\u001b[0m\n",
      "\u001b[32m[I 2023-04-14 21:08:09,753]\u001b[0m Searching the best hyperparameters using 204 samples...\u001b[0m\n",
      "\u001b[32m[I 2023-04-14 21:08:10,864]\u001b[0m Trial 0 finished with value: 0.6568627450980392 and parameters: {'n_estimators': 135, 'max_depth': 10, 'min_samples_split': 3, 'min_samples_leaf': 1, 'bootstrap': False, 'class_weight': 'balanced_subsample'}. Best is trial 0 with value: 0.6568627450980392.\u001b[0m\n",
      "\u001b[32m[I 2023-04-14 21:08:11,828]\u001b[0m Trial 1 finished with value: 0.5 and parameters: {'n_estimators': 193, 'max_depth': 2, 'min_samples_split': 3, 'min_samples_leaf': 2, 'bootstrap': True, 'class_weight': None}. Best is trial 0 with value: 0.6568627450980392.\u001b[0m\n",
      "\u001b[32m[I 2023-04-14 21:08:12,248]\u001b[0m Trial 2 finished with value: 0.6617647058823529 and parameters: {'n_estimators': 67, 'max_depth': 6, 'min_samples_split': 3, 'min_samples_leaf': 3, 'bootstrap': False, 'class_weight': 'balanced'}. Best is trial 2 with value: 0.6617647058823529.\u001b[0m\n",
      "\u001b[32m[I 2023-04-14 21:08:13,127]\u001b[0m Trial 3 finished with value: 0.5 and parameters: {'n_estimators': 200, 'max_depth': 2, 'min_samples_split': 3, 'min_samples_leaf': 3, 'bootstrap': False, 'class_weight': None}. Best is trial 2 with value: 0.6617647058823529.\u001b[0m\n",
      "\u001b[32m[I 2023-04-14 21:08:14,497]\u001b[0m Trial 4 finished with value: 0.6372549019607843 and parameters: {'n_estimators': 182, 'max_depth': 8, 'min_samples_split': 3, 'min_samples_leaf': 1, 'bootstrap': False, 'class_weight': 'balanced_subsample'}. Best is trial 2 with value: 0.6617647058823529.\u001b[0m\n",
      "\u001b[32m[I 2023-04-14 21:08:15,281]\u001b[0m Trial 5 finished with value: 0.5735294117647058 and parameters: {'n_estimators': 86, 'max_depth': 14, 'min_samples_split': 2, 'min_samples_leaf': 1, 'bootstrap': True, 'class_weight': 'balanced_subsample'}. Best is trial 2 with value: 0.6617647058823529.\u001b[0m\n",
      "\u001b[32m[I 2023-04-14 21:08:16,054]\u001b[0m Trial 6 finished with value: 0.6127450980392157 and parameters: {'n_estimators': 96, 'max_depth': 15, 'min_samples_split': 2, 'min_samples_leaf': 2, 'bootstrap': False, 'class_weight': None}. Best is trial 2 with value: 0.6617647058823529.\u001b[0m\n",
      "\u001b[32m[I 2023-04-14 21:08:17,170]\u001b[0m Trial 7 finished with value: 0.6470588235294118 and parameters: {'n_estimators': 143, 'max_depth': 8, 'min_samples_split': 2, 'min_samples_leaf': 1, 'bootstrap': False, 'class_weight': 'balanced'}. Best is trial 2 with value: 0.6617647058823529.\u001b[0m\n",
      "\u001b[32m[I 2023-04-14 21:08:18,202]\u001b[0m Trial 8 finished with value: 0.6127450980392157 and parameters: {'n_estimators': 189, 'max_depth': 3, 'min_samples_split': 3, 'min_samples_leaf': 3, 'bootstrap': True, 'class_weight': 'balanced'}. Best is trial 2 with value: 0.6617647058823529.\u001b[0m\n",
      "\u001b[32m[I 2023-04-14 21:08:19,154]\u001b[0m Trial 9 finished with value: 0.5294117647058824 and parameters: {'n_estimators': 110, 'max_depth': 15, 'min_samples_split': 3, 'min_samples_leaf': 2, 'bootstrap': True, 'class_weight': None}. Best is trial 2 with value: 0.6617647058823529.\u001b[0m\n",
      "\u001b[32m[I 2023-04-14 21:08:19,156]\u001b[0m Finished hyperparemeter search!\u001b[0m\n",
      "\u001b[32m[I 2023-04-14 21:08:19,157]\u001b[0m Refitting the estimator using 204 samples...\u001b[0m\n",
      "\u001b[32m[I 2023-04-14 21:08:19,287]\u001b[0m Finished refitting! (elapsed time: 0.129 sec.)\u001b[0m\n"
     ]
    },
    {
     "data": {
      "text/plain": [
       "OptunaSearchCV(cv=3, estimator=RandomForestClassifier(),\n",
       "               param_distributions={'bootstrap': CategoricalDistribution(choices=(True, False)),\n",
       "                                    'class_weight': CategoricalDistribution(choices=('balanced', 'balanced_subsample', None)),\n",
       "                                    'max_depth': IntDistribution(high=15, log=False, low=2, step=1),\n",
       "                                    'min_samples_leaf': CategoricalDistribution(choices=(1, 2, 3)),\n",
       "                                    'min_samples_split': CategoricalDistribution(choices=(2, 3)),\n",
       "                                    'n_estimators': IntDistribution(high=200, log=False, low=50, step=1)},\n",
       "               scoring='accuracy', verbose=1)"
      ]
     },
     "execution_count": 20,
     "metadata": {},
     "output_type": "execute_result"
    }
   ],
   "source": [
    "# trainig random forest classifier using optuna\n",
    "model_rf = RandomForestClassifier()\n",
    "params_rf = {\n",
    "    'n_estimators': IntDistribution(50, 200),\n",
    "    'max_depth': IntDistribution(2, 15),\n",
    "    'min_samples_split': CategoricalDistribution([2, 3]),\n",
    "    'min_samples_leaf': CategoricalDistribution([1, 2, 3]),\n",
    "    'bootstrap': CategoricalDistribution([True, False]),\n",
    "    'class_weight': CategoricalDistribution(['balanced', 'balanced_subsample', None])\n",
    "}\n",
    "optuna_rf = OptunaSearchCV(\n",
    "    model_rf,\n",
    "    params_rf,\n",
    "    scoring='accuracy',\n",
    "    cv=3,\n",
    "    verbose=1\n",
    ")\n",
    "\n",
    "optuna_rf.fit(X1_train, y1_train)"
   ]
  },
  {
   "cell_type": "code",
   "execution_count": 21,
   "id": "517e0596-fde4-4c75-bc0c-954110ef76a7",
   "metadata": {},
   "outputs": [
    {
     "name": "stdout",
     "output_type": "stream",
     "text": [
      "Subset accuracy is: 0.5797101449275363\n",
      "Confusion matrix:\n"
     ]
    },
    {
     "data": {
      "image/png": "[encoded data removed]",
      "text/plain": [
       "<Figure size 432x288 with 2 Axes>"
      ]
     },
     "metadata": {
      "needs_background": "light"
     },
     "output_type": "display_data"
    },
    {
     "name": "stdout",
     "output_type": "stream",
     "text": [
      "              precision    recall  f1-score   support\n",
      "\n",
      "          A2       0.40      0.44      0.42         9\n",
      "          B1       0.38      0.69      0.49        16\n",
      "          B2       0.83      0.56      0.67        34\n",
      "          C1       0.86      0.60      0.71        10\n",
      "\n",
      "    accuracy                           0.58        69\n",
      "   macro avg       0.62      0.57      0.57        69\n",
      "weighted avg       0.67      0.58      0.60        69\n",
      "\n"
     ]
    }
   ],
   "source": [
    "y1_pred_rf = optuna_rf.best_estimator_.predict(X1_test)\n",
    "report(y1_test, y1_pred_rf)"
   ]
  },
  {
   "cell_type": "markdown",
   "id": "450fd431-83a3-4448-9255-c4a1762fe2dc",
   "metadata": {},
   "source": [
    "### Logistic Regression"
   ]
  },
  {
   "cell_type": "code",
   "execution_count": 22,
   "id": "a4d5a731-818e-4475-aea7-e43db76f430c",
   "metadata": {
    "tags": []
   },
   "outputs": [
    {
     "name": "stdout",
     "output_type": "stream",
     "text": [
      "Fitting 5 folds for each of 4 candidates, totalling 20 fits\n"
     ]
    },
    {
     "data": {
      "text/plain": [
       "GridSearchCV(cv=5,\n",
       "             estimator=LogisticRegression(max_iter=1000, solver='newton-cg'),\n",
       "             param_grid={'class_weight': ['balanced', None],\n",
       "                         'multi_class': ['ovr', 'multinomial']},\n",
       "             scoring='accuracy', verbose=1)"
      ]
     },
     "execution_count": 22,
     "metadata": {},
     "output_type": "execute_result"
    }
   ],
   "source": [
    "# training logistic regression\n",
    "model_lr = LogisticRegression(max_iter=1000, solver='newton-cg')\n",
    "params_lr = {\n",
    "    'multi_class': ['ovr', 'multinomial'],\n",
    "    'class_weight': ['balanced', None]\n",
    "}\n",
    "\n",
    "grid_lr = GridSearchCV(\n",
    "    estimator=model_lr,\n",
    "    param_grid=params_lr,\n",
    "    scoring='accuracy',\n",
    "    cv=5,\n",
    "    verbose=1\n",
    ")\n",
    "\n",
    "grid_lr.fit(X1_train, y1_train)"
   ]
  },
  {
   "cell_type": "code",
   "execution_count": 23,
   "id": "c0ed761b-ebd6-403b-87bd-6d662a364294",
   "metadata": {},
   "outputs": [
    {
     "data": {
      "text/plain": [
       "{'class_weight': None, 'multi_class': 'multinomial'}"
      ]
     },
     "execution_count": 23,
     "metadata": {},
     "output_type": "execute_result"
    }
   ],
   "source": [
    "grid_lr.best_params_"
   ]
  },
  {
   "cell_type": "code",
   "execution_count": 24,
   "id": "806cb0e5-3e2c-4e6c-a776-f20a0a1fbab2",
   "metadata": {},
   "outputs": [
    {
     "name": "stdout",
     "output_type": "stream",
     "text": [
      "Subset accuracy is: 0.6811594202898551\n",
      "Confusion matrix:\n"
     ]
    },
    {
     "data": {
      "image/png": "[encoded data removed]",
      "text/plain": [
       "<Figure size 432x288 with 2 Axes>"
      ]
     },
     "metadata": {
      "needs_background": "light"
     },
     "output_type": "display_data"
    },
    {
     "name": "stdout",
     "output_type": "stream",
     "text": [
      "              precision    recall  f1-score   support\n",
      "\n",
      "          A2       0.50      0.11      0.18         9\n",
      "          B1       0.47      0.56      0.51        16\n",
      "          B2       0.73      0.88      0.80        34\n",
      "          C1       1.00      0.70      0.82        10\n",
      "\n",
      "    accuracy                           0.68        69\n",
      "   macro avg       0.68      0.56      0.58        69\n",
      "weighted avg       0.68      0.68      0.66        69\n",
      "\n"
     ]
    }
   ],
   "source": [
    "y1_pred_lr = grid_lr.best_estimator_.predict(X1_test)\n",
    "report(y1_test, y1_pred_lr)"
   ]
  },
  {
   "cell_type": "markdown",
   "id": "f76c2fb0-48e7-4608-af33-8d815a1e27dd",
   "metadata": {
    "tags": []
   },
   "source": [
    "### Saving file"
   ]
  },
  {
   "cell_type": "markdown",
   "id": "cdcfb1ac-6f79-4b00-8339-5f2583f86c8b",
   "metadata": {},
   "source": [
    "Naive Bayes classifier and Logistic Regression showed the same score, so we'll keep it easy and save LogRes model as a file.\n",
    "\n",
    "**Note:** I also used CatBoosClassifier but it took way too long to search for parameters using Optuna, and the score was not worth it."
   ]
  },
  {
   "cell_type": "code",
   "execution_count": 29,
   "id": "04cb2f8a-f61e-474b-8487-e2c9b544907e",
   "metadata": {},
   "outputs": [],
   "source": [
    "pickle.dump(grid_lr.best_estimator_, open('english_level_model.pkl', 'wb'))"
   ]
  },
  {
   "cell_type": "markdown",
   "id": "acc0826e-00d3-4f60-b3da-3fcb3333560e",
   "metadata": {},
   "source": [
    "## Conclusion"
   ]
  },
  {
   "cell_type": "markdown",
   "id": "4a719e80-8ffb-4e14-9ad4-b7c55cfc78c8",
   "metadata": {},
   "source": [
    "I tried only **Bag of Words** method of text preprocessing so far and chose LogisticRegression as the best estimator. This estimator is saved in `english_level_model.pkl` file"
   ]
  }
 ],
 "metadata": {
  "kernelspec": {
   "display_name": "Python 3 (ipykernel)",
   "language": "python",
   "name": "python3"
  },
  "language_info": {
   "codemirror_mode": {
    "name": "ipython",
    "version": 3
   },
   "file_extension": ".py",
   "mimetype": "text/x-python",
   "name": "python",
   "nbconvert_exporter": "python",
   "pygments_lexer": "ipython3",
   "version": "3.9.7"
  }
 },
 "nbformat": 4,
 "nbformat_minor": 5
}
