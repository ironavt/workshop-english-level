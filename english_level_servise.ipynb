{
 "cells": [
  {
   "cell_type": "markdown",
   "id": "30dd4455-a8a8-4937-b257-ef3c861491ef",
   "metadata": {},
   "source": [
    "# English level servise"
   ]
  },
  {
   "cell_type": "markdown",
   "id": "93058f4c-fcd7-4cbf-9fdb-bd1add24e976",
   "metadata": {},
   "source": [
    "This notebook grabs all the files from `Sample_subs` folder and labels them using the pipeline saved in `english_level_model.pkl` file"
   ]
  },
  {
   "cell_type": "markdown",
   "id": "eb5a534e-00b4-42d2-ae00-425ed81eb76b",
   "metadata": {},
   "source": [
    "## Imports"
   ]
  },
  {
   "cell_type": "markdown",
   "id": "de21b15e-c7c5-4cc7-82b9-717af2c7bef3",
   "metadata": {},
   "source": [
    "Here's imports and functions we could use from previous notebooks. Others are in `english_level_functions.py` file"
   ]
  },
  {
   "cell_type": "code",
   "execution_count": 1,
   "id": "40c158a8-d106-44c4-adb5-8f05f75320ae",
   "metadata": {},
   "outputs": [],
   "source": [
    "# libraries to work with data\n",
    "import pandas as pd\n",
    "import numpy as np\n",
    "import re"
   ]
  },
  {
   "cell_type": "code",
   "execution_count": 2,
   "id": "b3d75130-6616-4af4-9bfb-8f2fe67de456",
   "metadata": {},
   "outputs": [],
   "source": [
    "# libraries to work with files\n",
    "import joblib\n",
    "\n",
    "from pathlib import Path"
   ]
  },
  {
   "cell_type": "code",
   "execution_count": 3,
   "id": "17401135-20e5-496b-835a-66148699c27b",
   "metadata": {},
   "outputs": [],
   "source": [
    "# sklearn\n",
    "from sklearn.feature_extraction.text import CountVectorizer\n",
    "\n",
    "from sklearn.linear_model import LogisticRegression"
   ]
  },
  {
   "cell_type": "code",
   "execution_count": 4,
   "id": "0182956c-66c9-4491-9725-8b219715620a",
   "metadata": {},
   "outputs": [],
   "source": [
    "# global variables\n",
    "UTF8_SUBFOLDER = r'/utf-8'\n",
    "\n",
    "RND_STATE = 1337\n",
    "\n",
    "PATH_MODEL=r'./english_level_model.pkl'\n",
    "PATH_SUBS_SAMPLE=r'./Sample_subs'"
   ]
  },
  {
   "cell_type": "code",
   "execution_count": 5,
   "id": "205ae1c3-ba9a-44a9-a77a-0c6a574b93bd",
   "metadata": {},
   "outputs": [],
   "source": [
    "# regex for text processing\n",
    "ONLY_WORDS = re.compile(r'[.,!?]|(?:\\'[a-z]*)') # for BOW"
   ]
  },
  {
   "cell_type": "markdown",
   "id": "04b3a229-ff92-447d-b2be-b3e9da93583d",
   "metadata": {},
   "source": [
    "### Imports from `english_level_functions.py`"
   ]
  },
  {
   "cell_type": "markdown",
   "id": "fd2628d9-eae0-44f1-9dc5-298ab44069f0",
   "metadata": {},
   "source": [
    "I saved the functions I used in this project in `english_level_functions.py` file. I will import them now"
   ]
  },
  {
   "cell_type": "code",
   "execution_count": 6,
   "id": "fb3ddea0-83c3-4887-9379-146d8a74ad1c",
   "metadata": {
    "tags": []
   },
   "outputs": [],
   "source": [
    "# my functions\n",
    "from english_level_functions import encoding_detector, folder_to_utf\n",
    "from english_level_functions import srt_raw_text, srt_full_subs\n",
    "from english_level_functions import re_clean_subs, text_preprocess_lem"
   ]
  },
  {
   "cell_type": "markdown",
   "id": "fff184f9-eb85-491a-acd3-c1c5151b8a06",
   "metadata": {},
   "source": [
    "## Getting file labels"
   ]
  },
  {
   "cell_type": "markdown",
   "id": "a136f8fa-c753-4054-9c68-61a708b1f719",
   "metadata": {},
   "source": [
    "### Prepearing files and DataFrame"
   ]
  },
  {
   "cell_type": "markdown",
   "id": "4baef79c-c61d-4087-94eb-671f18d04e86",
   "metadata": {},
   "source": [
    "Encode all `.srt` files in directory to `utf-8`:"
   ]
  },
  {
   "cell_type": "code",
   "execution_count": 7,
   "id": "b30fb29d-1887-4270-908b-6948976ed593",
   "metadata": {},
   "outputs": [],
   "source": [
    "folder_to_utf(PATH_SUBS_SAMPLE)"
   ]
  },
  {
   "cell_type": "code",
   "execution_count": 8,
   "id": "87d88488-34c4-49e5-acb8-5ba964dc455b",
   "metadata": {},
   "outputs": [],
   "source": [
    "# saving path to the folder with reencoded .srt\n",
    "all_subs_path = Path(PATH_SUBS_SAMPLE+UTF8_SUBFOLDER)"
   ]
  },
  {
   "cell_type": "code",
   "execution_count": 9,
   "id": "86bb1c0d-4340-4e87-a53c-4595f0f555e4",
   "metadata": {},
   "outputs": [
    {
     "data": {
      "text/html": [
       "<div>\n",
       "<style scoped>\n",
       "    .dataframe tbody tr th:only-of-type {\n",
       "        vertical-align: middle;\n",
       "    }\n",
       "\n",
       "    .dataframe tbody tr th {\n",
       "        vertical-align: top;\n",
       "    }\n",
       "\n",
       "    .dataframe thead th {\n",
       "        text-align: right;\n",
       "    }\n",
       "</style>\n",
       "<table border=\"1\" class=\"dataframe\">\n",
       "  <thead>\n",
       "    <tr style=\"text-align: right;\">\n",
       "      <th></th>\n",
       "      <th>file_name</th>\n",
       "      <th>file_path</th>\n",
       "    </tr>\n",
       "  </thead>\n",
       "  <tbody>\n",
       "    <tr>\n",
       "      <th>0</th>\n",
       "      <td>A_knights_tale(2001).srt</td>\n",
       "      <td>Sample_subs\\utf-8\\A_knights_tale(2001).srt</td>\n",
       "    </tr>\n",
       "    <tr>\n",
       "      <th>1</th>\n",
       "      <td>Beauty_and_the_beast(2017).srt</td>\n",
       "      <td>Sample_subs\\utf-8\\Beauty_and_the_beast(2017).srt</td>\n",
       "    </tr>\n",
       "    <tr>\n",
       "      <th>2</th>\n",
       "      <td>The_fault_in_our_stars(2014).srt</td>\n",
       "      <td>Sample_subs\\utf-8\\The_fault_in_our_stars(2014)...</td>\n",
       "    </tr>\n",
       "    <tr>\n",
       "      <th>3</th>\n",
       "      <td>The_usual_suspects(1995).srt</td>\n",
       "      <td>Sample_subs\\utf-8\\The_usual_suspects(1995).srt</td>\n",
       "    </tr>\n",
       "    <tr>\n",
       "      <th>4</th>\n",
       "      <td>While_You_Were_Sleeping(1995).srt</td>\n",
       "      <td>Sample_subs\\utf-8\\While_You_Were_Sleeping(1995...</td>\n",
       "    </tr>\n",
       "  </tbody>\n",
       "</table>\n",
       "</div>"
      ],
      "text/plain": [
       "                           file_name  \\\n",
       "0           A_knights_tale(2001).srt   \n",
       "1     Beauty_and_the_beast(2017).srt   \n",
       "2   The_fault_in_our_stars(2014).srt   \n",
       "3       The_usual_suspects(1995).srt   \n",
       "4  While_You_Were_Sleeping(1995).srt   \n",
       "\n",
       "                                           file_path  \n",
       "0         Sample_subs\\utf-8\\A_knights_tale(2001).srt  \n",
       "1   Sample_subs\\utf-8\\Beauty_and_the_beast(2017).srt  \n",
       "2  Sample_subs\\utf-8\\The_fault_in_our_stars(2014)...  \n",
       "3     Sample_subs\\utf-8\\The_usual_suspects(1995).srt  \n",
       "4  Sample_subs\\utf-8\\While_You_Were_Sleeping(1995...  "
      ]
     },
     "metadata": {},
     "output_type": "display_data"
    },
    {
     "name": "stdout",
     "output_type": "stream",
     "text": [
      "Found 5 subtitles files\n"
     ]
    }
   ],
   "source": [
    "# getting df with file names and file paths\n",
    "all_subs_list = [p.name for p in all_subs_path.glob('*.srt')]\n",
    "all_subs_df = pd.DataFrame({'file_name': all_subs_list,\n",
    "                            'file_path': list(all_subs_path.glob('*.srt'))})\n",
    "display(all_subs_df)\n",
    "print(f'Found {all_subs_df.shape[0]} subtitles files')"
   ]
  },
  {
   "cell_type": "code",
   "execution_count": 10,
   "id": "3d0bfc93-4e47-4d06-8a6f-4049f8915648",
   "metadata": {},
   "outputs": [
    {
     "data": {
      "text/html": [
       "<div>\n",
       "<style scoped>\n",
       "    .dataframe tbody tr th:only-of-type {\n",
       "        vertical-align: middle;\n",
       "    }\n",
       "\n",
       "    .dataframe tbody tr th {\n",
       "        vertical-align: top;\n",
       "    }\n",
       "\n",
       "    .dataframe thead th {\n",
       "        text-align: right;\n",
       "    }\n",
       "</style>\n",
       "<table border=\"1\" class=\"dataframe\">\n",
       "  <thead>\n",
       "    <tr style=\"text-align: right;\">\n",
       "      <th></th>\n",
       "      <th>file_name</th>\n",
       "      <th>file_path</th>\n",
       "      <th>raw_text</th>\n",
       "    </tr>\n",
       "  </thead>\n",
       "  <tbody>\n",
       "    <tr>\n",
       "      <th>0</th>\n",
       "      <td>A_knights_tale(2001).srt</td>\n",
       "      <td>Sample_subs\\utf-8\\A_knights_tale(2001).srt</td>\n",
       "      <td>Resync: Xenzai[NEF]\\nRETAIL\\nShould we help hi...</td>\n",
       "    </tr>\n",
       "    <tr>\n",
       "      <th>1</th>\n",
       "      <td>Beauty_and_the_beast(2017).srt</td>\n",
       "      <td>Sample_subs\\utf-8\\Beauty_and_the_beast(2017).srt</td>\n",
       "      <td>Once upon a time,\\nin the hidden heart of Fran...</td>\n",
       "    </tr>\n",
       "    <tr>\n",
       "      <th>2</th>\n",
       "      <td>The_fault_in_our_stars(2014).srt</td>\n",
       "      <td>Sample_subs\\utf-8\\The_fault_in_our_stars(2014)...</td>\n",
       "      <td>&lt;i&gt;I believe we have a choice in this\\nworld a...</td>\n",
       "    </tr>\n",
       "    <tr>\n",
       "      <th>3</th>\n",
       "      <td>The_usual_suspects(1995).srt</td>\n",
       "      <td>Sample_subs\\utf-8\\The_usual_suspects(1995).srt</td>\n",
       "      <td>How you doing, Keaton?\\nI can't feel my legs.....</td>\n",
       "    </tr>\n",
       "    <tr>\n",
       "      <th>4</th>\n",
       "      <td>While_You_Were_Sleeping(1995).srt</td>\n",
       "      <td>Sample_subs\\utf-8\\While_You_Were_Sleeping(1995...</td>\n",
       "      <td>LUCY: &lt;i&gt;Okay, there are two things that&lt;/i&gt;\\n...</td>\n",
       "    </tr>\n",
       "  </tbody>\n",
       "</table>\n",
       "</div>"
      ],
      "text/plain": [
       "                           file_name  \\\n",
       "0           A_knights_tale(2001).srt   \n",
       "1     Beauty_and_the_beast(2017).srt   \n",
       "2   The_fault_in_our_stars(2014).srt   \n",
       "3       The_usual_suspects(1995).srt   \n",
       "4  While_You_Were_Sleeping(1995).srt   \n",
       "\n",
       "                                           file_path  \\\n",
       "0         Sample_subs\\utf-8\\A_knights_tale(2001).srt   \n",
       "1   Sample_subs\\utf-8\\Beauty_and_the_beast(2017).srt   \n",
       "2  Sample_subs\\utf-8\\The_fault_in_our_stars(2014)...   \n",
       "3     Sample_subs\\utf-8\\The_usual_suspects(1995).srt   \n",
       "4  Sample_subs\\utf-8\\While_You_Were_Sleeping(1995...   \n",
       "\n",
       "                                            raw_text  \n",
       "0  Resync: Xenzai[NEF]\\nRETAIL\\nShould we help hi...  \n",
       "1  Once upon a time,\\nin the hidden heart of Fran...  \n",
       "2  <i>I believe we have a choice in this\\nworld a...  \n",
       "3  How you doing, Keaton?\\nI can't feel my legs.....  \n",
       "4  LUCY: <i>Okay, there are two things that</i>\\n...  "
      ]
     },
     "execution_count": 10,
     "metadata": {},
     "output_type": "execute_result"
    }
   ],
   "source": [
    "# adding text to dataframe\n",
    "all_subs_df['raw_text'] = all_subs_df['file_path'].apply(srt_raw_text)\n",
    "all_subs_df"
   ]
  },
  {
   "cell_type": "code",
   "execution_count": 11,
   "id": "1b2819cb-6e16-4910-baec-02e0875c9ab3",
   "metadata": {},
   "outputs": [
    {
     "data": {
      "text/html": [
       "<div>\n",
       "<style scoped>\n",
       "    .dataframe tbody tr th:only-of-type {\n",
       "        vertical-align: middle;\n",
       "    }\n",
       "\n",
       "    .dataframe tbody tr th {\n",
       "        vertical-align: top;\n",
       "    }\n",
       "\n",
       "    .dataframe thead th {\n",
       "        text-align: right;\n",
       "    }\n",
       "</style>\n",
       "<table border=\"1\" class=\"dataframe\">\n",
       "  <thead>\n",
       "    <tr style=\"text-align: right;\">\n",
       "      <th></th>\n",
       "      <th>file_name</th>\n",
       "      <th>preprocessed_text</th>\n",
       "    </tr>\n",
       "  </thead>\n",
       "  <tbody>\n",
       "    <tr>\n",
       "      <th>0</th>\n",
       "      <td>A_knights_tale(2001).srt</td>\n",
       "      <td>two minute forfeit . lend u . right . left . d...</td>\n",
       "    </tr>\n",
       "    <tr>\n",
       "      <th>1</th>\n",
       "      <td>Beauty_and_the_beast(2017).srt</td>\n",
       "      <td>handsome young prince . lived beautiful castle...</td>\n",
       "    </tr>\n",
       "    <tr>\n",
       "      <th>2</th>\n",
       "      <td>The_fault_in_our_stars(2014).srt</td>\n",
       "      <td>one hand , sugarcoat . way movie romance novel...</td>\n",
       "    </tr>\n",
       "    <tr>\n",
       "      <th>3</th>\n",
       "      <td>The_usual_suspects(1995).srt</td>\n",
       "      <td>keyser . ready ? time ? . started back new yor...</td>\n",
       "    </tr>\n",
       "    <tr>\n",
       "      <th>4</th>\n",
       "      <td>While_You_Were_Sleeping(1995).srt</td>\n",
       "      <td>n't remember orange . first , remember dad . w...</td>\n",
       "    </tr>\n",
       "  </tbody>\n",
       "</table>\n",
       "</div>"
      ],
      "text/plain": [
       "                           file_name  \\\n",
       "0           A_knights_tale(2001).srt   \n",
       "1     Beauty_and_the_beast(2017).srt   \n",
       "2   The_fault_in_our_stars(2014).srt   \n",
       "3       The_usual_suspects(1995).srt   \n",
       "4  While_You_Were_Sleeping(1995).srt   \n",
       "\n",
       "                                   preprocessed_text  \n",
       "0  two minute forfeit . lend u . right . left . d...  \n",
       "1  handsome young prince . lived beautiful castle...  \n",
       "2  one hand , sugarcoat . way movie romance novel...  \n",
       "3  keyser . ready ? time ? . started back new yor...  \n",
       "4  n't remember orange . first , remember dad . w...  "
      ]
     },
     "execution_count": 11,
     "metadata": {},
     "output_type": "execute_result"
    }
   ],
   "source": [
    "all_subs_df['preprocessed_text'] = all_subs_df['raw_text'].apply(text_preprocess_lem)\n",
    "df1 = all_subs_df.drop(columns=['file_path', 'raw_text'])\n",
    "df1"
   ]
  },
  {
   "cell_type": "markdown",
   "id": "7500147a-57be-4c3d-b633-931cf9f8e917",
   "metadata": {},
   "source": [
    "### Vectorising text"
   ]
  },
  {
   "cell_type": "code",
   "execution_count": 12,
   "id": "07c7171d-f4be-4607-84a2-f4a970dbf7dd",
   "metadata": {},
   "outputs": [
    {
     "data": {
      "text/html": [
       "<div>\n",
       "<style scoped>\n",
       "    .dataframe tbody tr th:only-of-type {\n",
       "        vertical-align: middle;\n",
       "    }\n",
       "\n",
       "    .dataframe tbody tr th {\n",
       "        vertical-align: top;\n",
       "    }\n",
       "\n",
       "    .dataframe thead th {\n",
       "        text-align: right;\n",
       "    }\n",
       "</style>\n",
       "<table border=\"1\" class=\"dataframe\">\n",
       "  <thead>\n",
       "    <tr style=\"text-align: right;\">\n",
       "      <th></th>\n",
       "      <th>file_name</th>\n",
       "      <th>preprocessed_text</th>\n",
       "      <th>bow_text</th>\n",
       "    </tr>\n",
       "  </thead>\n",
       "  <tbody>\n",
       "    <tr>\n",
       "      <th>0</th>\n",
       "      <td>A_knights_tale(2001).srt</td>\n",
       "      <td>two minute forfeit . lend u . right . left . d...</td>\n",
       "      <td>two minute forfeit lend u right left dead eh t...</td>\n",
       "    </tr>\n",
       "    <tr>\n",
       "      <th>1</th>\n",
       "      <td>Beauty_and_the_beast(2017).srt</td>\n",
       "      <td>handsome young prince . lived beautiful castle...</td>\n",
       "      <td>handsome young prince lived beautiful castle p...</td>\n",
       "    </tr>\n",
       "    <tr>\n",
       "      <th>2</th>\n",
       "      <td>The_fault_in_our_stars(2014).srt</td>\n",
       "      <td>one hand , sugarcoat . way movie romance novel...</td>\n",
       "      <td>one hand sugarcoat way movie romance novel bea...</td>\n",
       "    </tr>\n",
       "    <tr>\n",
       "      <th>3</th>\n",
       "      <td>The_usual_suspects(1995).srt</td>\n",
       "      <td>keyser . ready ? time ? . started back new yor...</td>\n",
       "      <td>keyser ready time started back new york six we...</td>\n",
       "    </tr>\n",
       "    <tr>\n",
       "      <th>4</th>\n",
       "      <td>While_You_Were_Sleeping(1995).srt</td>\n",
       "      <td>n't remember orange . first , remember dad . w...</td>\n",
       "      <td>n remember orange first remember dad would get...</td>\n",
       "    </tr>\n",
       "  </tbody>\n",
       "</table>\n",
       "</div>"
      ],
      "text/plain": [
       "                           file_name  \\\n",
       "0           A_knights_tale(2001).srt   \n",
       "1     Beauty_and_the_beast(2017).srt   \n",
       "2   The_fault_in_our_stars(2014).srt   \n",
       "3       The_usual_suspects(1995).srt   \n",
       "4  While_You_Were_Sleeping(1995).srt   \n",
       "\n",
       "                                   preprocessed_text  \\\n",
       "0  two minute forfeit . lend u . right . left . d...   \n",
       "1  handsome young prince . lived beautiful castle...   \n",
       "2  one hand , sugarcoat . way movie romance novel...   \n",
       "3  keyser . ready ? time ? . started back new yor...   \n",
       "4  n't remember orange . first , remember dad . w...   \n",
       "\n",
       "                                            bow_text  \n",
       "0  two minute forfeit lend u right left dead eh t...  \n",
       "1  handsome young prince lived beautiful castle p...  \n",
       "2  one hand sugarcoat way movie romance novel bea...  \n",
       "3  keyser ready time started back new york six we...  \n",
       "4  n remember orange first remember dad would get...  "
      ]
     },
     "metadata": {},
     "output_type": "display_data"
    }
   ],
   "source": [
    "# leaving only words\n",
    "df1['bow_text'] = df1['preprocessed_text'].apply(lambda x: re.sub(ONLY_WORDS, '', x))\n",
    "df1['bow_text'] = df1['bow_text'].apply(lambda x: re.sub(r'\\s+', ' ', x)) # removing multiple spaces\n",
    "display(df1)"
   ]
  },
  {
   "cell_type": "code",
   "execution_count": 13,
   "id": "4aea04da-f644-4089-9484-6aaf6f948245",
   "metadata": {},
   "outputs": [
    {
     "data": {
      "text/plain": [
       "0    two minute forfeit lend u right left dead eh t...\n",
       "1    handsome young prince lived beautiful castle p...\n",
       "2    one hand sugarcoat way movie romance novel bea...\n",
       "3    keyser ready time started back new york six we...\n",
       "4    n remember orange first remember dad would get...\n",
       "Name: bow_text, dtype: object"
      ]
     },
     "metadata": {},
     "output_type": "display_data"
    }
   ],
   "source": [
    "# getting features\n",
    "X1 = df1['bow_text'].copy()\n",
    "\n",
    "display(X1)"
   ]
  },
  {
   "cell_type": "markdown",
   "id": "8c787d36-9501-44bd-a88a-e529bdc8bd4e",
   "metadata": {},
   "source": [
    "### Applying the model"
   ]
  },
  {
   "cell_type": "code",
   "execution_count": 14,
   "id": "c00f7ae5-155f-4c2c-b2a5-8ac39780f0a8",
   "metadata": {},
   "outputs": [],
   "source": [
    "# loading saved pipeline\n",
    "english_level_pipeline = joblib.load(PATH_MODEL)"
   ]
  },
  {
   "cell_type": "code",
   "execution_count": 15,
   "id": "8a64aa52-9d39-4b94-8e57-16a11b6d4daf",
   "metadata": {},
   "outputs": [
    {
     "name": "stdout",
     "output_type": "stream",
     "text": [
      "Predicted labels are: ['B2' 'B2' 'B1' 'B2' 'B1']\n"
     ]
    },
    {
     "data": {
      "text/html": [
       "<div>\n",
       "<style scoped>\n",
       "    .dataframe tbody tr th:only-of-type {\n",
       "        vertical-align: middle;\n",
       "    }\n",
       "\n",
       "    .dataframe tbody tr th {\n",
       "        vertical-align: top;\n",
       "    }\n",
       "\n",
       "    .dataframe thead th {\n",
       "        text-align: right;\n",
       "    }\n",
       "</style>\n",
       "<table border=\"1\" class=\"dataframe\">\n",
       "  <thead>\n",
       "    <tr style=\"text-align: right;\">\n",
       "      <th></th>\n",
       "      <th>file_name</th>\n",
       "      <th>english_level</th>\n",
       "    </tr>\n",
       "  </thead>\n",
       "  <tbody>\n",
       "    <tr>\n",
       "      <th>0</th>\n",
       "      <td>A_knights_tale(2001).srt</td>\n",
       "      <td>B2</td>\n",
       "    </tr>\n",
       "    <tr>\n",
       "      <th>1</th>\n",
       "      <td>Beauty_and_the_beast(2017).srt</td>\n",
       "      <td>B2</td>\n",
       "    </tr>\n",
       "    <tr>\n",
       "      <th>2</th>\n",
       "      <td>The_fault_in_our_stars(2014).srt</td>\n",
       "      <td>B1</td>\n",
       "    </tr>\n",
       "    <tr>\n",
       "      <th>3</th>\n",
       "      <td>The_usual_suspects(1995).srt</td>\n",
       "      <td>B2</td>\n",
       "    </tr>\n",
       "    <tr>\n",
       "      <th>4</th>\n",
       "      <td>While_You_Were_Sleeping(1995).srt</td>\n",
       "      <td>B1</td>\n",
       "    </tr>\n",
       "  </tbody>\n",
       "</table>\n",
       "</div>"
      ],
      "text/plain": [
       "                           file_name english_level\n",
       "0           A_knights_tale(2001).srt            B2\n",
       "1     Beauty_and_the_beast(2017).srt            B2\n",
       "2   The_fault_in_our_stars(2014).srt            B1\n",
       "3       The_usual_suspects(1995).srt            B2\n",
       "4  While_You_Were_Sleeping(1995).srt            B1"
      ]
     },
     "metadata": {},
     "output_type": "display_data"
    }
   ],
   "source": [
    "# applying the pipeline\n",
    "labels = english_level_pipeline.predict(X1)\n",
    "print('Predicted labels are:', labels)\n",
    "\n",
    "df1['english_level'] = labels\n",
    "df_results = df1[['file_name', 'english_level']].copy()\n",
    "\n",
    "display(df_results)"
   ]
  },
  {
   "cell_type": "markdown",
   "id": "a3e7ced4-f22c-4375-a954-4e5a38ca1d3a",
   "metadata": {},
   "source": [
    "# Conclusion"
   ]
  },
  {
   "cell_type": "markdown",
   "id": "dbedb994-57ac-4a27-8eef-94c26104afa6",
   "metadata": {},
   "source": [
    "That's all for this project so far!"
   ]
  },
  {
   "cell_type": "markdown",
   "id": "bdd89a1f-22f3-45c8-9b7d-dab4b721bb35",
   "metadata": {},
   "source": [
    "I encountered a new problem I yet don't know how to deal with. But I'm out of time so here's all I got so far"
   ]
  },
  {
   "cell_type": "markdown",
   "id": "d092a00f-6e4f-4c01-8870-5cd72ebd9a5d",
   "metadata": {},
   "source": [
    "Expierence I gained from this project:\n",
    "* worked with file system and learned how to deal with different encodings\n",
    "* gained some expierence working with text processing libraries\n",
    "* worked with Optuna and CatBoost; didn't get any good result so far\n",
    "* saving the pipeline to file using joblib"
   ]
  }
 ],
 "metadata": {
  "kernelspec": {
   "display_name": "Python 3 (ipykernel)",
   "language": "python",
   "name": "python3"
  },
  "language_info": {
   "codemirror_mode": {
    "name": "ipython",
    "version": 3
   },
   "file_extension": ".py",
   "mimetype": "text/x-python",
   "name": "python",
   "nbconvert_exporter": "python",
   "pygments_lexer": "ipython3",
   "version": "3.9.7"
  }
 },
 "nbformat": 4,
 "nbformat_minor": 5
}
